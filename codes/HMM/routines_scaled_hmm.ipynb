{
 "metadata": {
  "language_info": {
   "codemirror_mode": {
    "name": "ipython",
    "version": 3
   },
   "file_extension": ".py",
   "mimetype": "text/x-python",
   "name": "python",
   "nbconvert_exporter": "python",
   "pygments_lexer": "ipython3",
   "version": "3.9.0"
  },
  "orig_nbformat": 2,
  "kernelspec": {
   "name": "python3",
   "display_name": "Python 3.9.0 64-bit",
   "metadata": {
    "interpreter": {
     "hash": "63fd5069d213b44bf678585dea6b12cceca9941eaf7f819626cde1f2670de90d"
    }
   }
  }
 },
 "nbformat": 4,
 "nbformat_minor": 2,
 "cells": [
  {
   "cell_type": "code",
   "execution_count": 293,
   "metadata": {},
   "outputs": [],
   "source": [
    "import copy\n",
    "import random\n",
    "import math\n",
    "# Initialize all the matrices required for the hidden markov models (for testing only)\n",
    "N = 2\n",
    "M = 3\n",
    "T = 4\n",
    "pi = [0.60, 0.40]\n",
    "O = [0, 1, 0, 2]\n",
    "A = [[0.70, 0.30], [0.40, 0.60]]\n",
    "B = [[0.10, 0.40, 0.50], [0.70, 0.20, 0.10]]"
   ]
  },
  {
   "cell_type": "code",
   "execution_count": 294,
   "metadata": {},
   "outputs": [],
   "source": [
    "# The Forward algorithm. Alpha-pass\n",
    "# pi represents probability of initial states\n",
    "# A is the state transition matrix\n",
    "# B is the observation probability matrix\n",
    "# N is the number of distinct states of the markov process\n",
    "# T is the length of the observation sequence\n",
    "# M is the number of ovservation symbols\n",
    "# O is the observation sequence\n",
    "def alpha_pass(pi, A, B, N, M, T, O):\n",
    "    # The alpha pass calculates the probability P(O_0, O_1, O_2 ... O_t, X_T = q_i | model)\n",
    "\n",
    "    # initialize the zeroth alpha-pass\n",
    "    alpha = []\n",
    "    scaled_constants = []\n",
    "    const = 0\n",
    "    for states in range(0, N):\n",
    "        alpha.append([pi[states] * B[states][O[0]]]);\n",
    "        const += alpha[states][0] # for normalization of alpha constants\n",
    "    \n",
    "    scaled_constants.append(1 / const)\n",
    "    \n",
    "    for states in range(0, N): # Nomalizing\n",
    "        alpha[states][0] *= scaled_constants[0]\n",
    "    \n",
    "    # starting the DP algorithm here\n",
    "    for time in range(1, T):\n",
    "\n",
    "        const = 0\n",
    "\n",
    "        # for each state\n",
    "        for states in range(0, N):\n",
    "            # calculate transition probabilities from each state in time-1 and add it\n",
    "            prob = 0\n",
    "            for prev_states in range(0, N):\n",
    "                prob += (alpha[prev_states][time - 1] * A[prev_states][states]);\n",
    "            \n",
    "            # multiply it with probabilities to get the observation symbols\n",
    "            alpha[states].append(prob * B[states][O[time]])\n",
    "            const += alpha[states][time]\n",
    "        \n",
    "        # Normalizing\n",
    "        for states in range(0, N):\n",
    "            alpha[states][time] /= const\n",
    "        scaled_constants.append(1 / const)\n",
    "\n",
    "    return alpha, scaled_constants"
   ]
  },
  {
   "cell_type": "code",
   "execution_count": 295,
   "metadata": {},
   "outputs": [
    {
     "output_type": "stream",
     "name": "stdout",
     "text": [
      "[[0.17647058823529413, 0.6234817813765182, 0.16880093131548313, 0.8039793968596827], [0.8235294117647058, 0.3765182186234818, 0.8311990686845169, 0.19602060314031738]]\n"
     ]
    }
   ],
   "source": [
    "alpha, scaled_constants = alpha_pass(pi, A, B, N, M, T, O)\n",
    "print(alpha)"
   ]
  },
  {
   "cell_type": "code",
   "execution_count": 296,
   "metadata": {},
   "outputs": [],
   "source": [
    "# The backward algorithm. Beta-pass\n",
    "# pi represents probability of initial states\n",
    "# A is the state transition matrix\n",
    "# B is the observation probability matrix\n",
    "# N is the number of distinct states of the markov process\n",
    "# T is the length of the observation sequence\n",
    "# M is the number of ovservation symbols\n",
    "# O is the observation sequence\n",
    "def beta_pass(pi, A, B, N, M, T, O, scaled_constants):\n",
    "    # initialize the beta-pass\n",
    "    beta = [[scaled_constants[T - 1]] * T for _ in range(0, N)]\n",
    "    \n",
    "    # The algorithm starts here\n",
    "    for time in range(T - 2, -1, -1):\n",
    "        \n",
    "        for states in range(0, N):\n",
    "            # find the sum of transition probabilities multiplied with the observational probability and the beta-pass of next states\n",
    "            beta[states][time] = 0\n",
    "            for next_states in range(0, N):\n",
    "                beta[states][time] += (A[states][next_states] * B[next_states][O[time + 1]] * beta[next_states][time + 1])\n",
    "            beta[states][time] *= scaled_constants[time]\n",
    "    \n",
    "    return beta"
   ]
  },
  {
   "cell_type": "code",
   "execution_count": 297,
   "metadata": {},
   "outputs": [
    {
     "output_type": "stream",
     "name": "stdout",
     "text": [
      "[[3.1361634958876796, 2.866993436902883, 3.8988119963446044, 3.568164825122539], [2.899393536595498, 4.392290437816732, 2.667608208025256, 3.568164825122539]]\n"
     ]
    }
   ],
   "source": [
    "beta = beta_pass(pi, A, B, N, M, T, O, scaled_constants)\n",
    "print(beta)"
   ]
  },
  {
   "cell_type": "code",
   "execution_count": 298,
   "metadata": {},
   "outputs": [],
   "source": [
    "# the procedure to find the digammas and gammas\n",
    "def digammas(pi, A, B, N, M, T, O, alpha, beta):\n",
    "\n",
    "    digamma = [[[1] * T for _ in range(0, N)] for _ in range(0, N)]\n",
    "    gamma = [[1] * T for _ in range(0, N)]\n",
    "\n",
    "    # P(O | model)\n",
    "    P_O = 0\n",
    "    for i in range(0, N):\n",
    "        P_O += alpha[i][T - 1]\n",
    "    \n",
    "    for time in range(0, T - 1):\n",
    "        for stat1 in range(0, N):\n",
    "            gamma[stat1][time] = 0\n",
    "            for stat2 in range(0, N):\n",
    "                digamma[stat1][stat2][time] = (alpha[stat1][time] * A[stat1][stat2] * B[stat2][O[time + 1]] * beta[stat2][time + 1]) / P_O;\n",
    "                gamma[stat1][time] += digamma[stat1][stat2][time]\n",
    "    \n",
    "    # Special case for y(T - 1)\n",
    "    for stat in range(0, N):\n",
    "        gamma[stat][T - 1] = alpha[stat][T - 1]\n",
    "    \n",
    "    return digamma, gamma"
   ]
  },
  {
   "cell_type": "code",
   "execution_count": 299,
   "metadata": {},
   "outputs": [
    {
     "output_type": "stream",
     "name": "stdout",
     "text": [
      "[[[0.14166320511755423, 0.1701586774113151, 0.21080834094874137, 1], [0.046506604635706585, 0.34927307468638374, 0.01806928636703498, 1]], [[0.3777685469801446, 0.058718949904461255, 0.5931710559109413, 1], [0.4340616432665947, 0.42184929799784, 0.1779513167732824, 1]]] \n\n\n[[0.1881698097532608, 0.5194317520976989, 0.22887762731577635, 0.8039793968596827], [0.8118301902467393, 0.48056824790230124, 0.7711223726842238, 0.19602060314031738]]\n"
     ]
    }
   ],
   "source": [
    "digamma, gamma = digammas(pi, A, B, N, M, T, O, alpha, beta)\n",
    "print(digamma, \"\\n\\n\")\n",
    "print(gamma)"
   ]
  },
  {
   "cell_type": "code",
   "execution_count": 300,
   "metadata": {},
   "outputs": [],
   "source": [
    "# Estimating the model from here on\n",
    "def estimate(N, M, T, O):\n",
    "    # initialize the initial probability here\n",
    "    pi = []\n",
    "    for i in range(0, N):\n",
    "        num = 0\n",
    "        num = random.gauss(1 / N, 0.1)\n",
    "        pi.append(num)\n",
    "    \n",
    "    su = sum(pi)\n",
    "    \n",
    "    for i in range(0, N):\n",
    "        pi[i] /= su\n",
    "    \n",
    "    # initialize the state transition matrix\n",
    "    A = []\n",
    "    for i in range(0, N):\n",
    "        A.append([])\n",
    "        for j in range(0, N):\n",
    "            A[i].append(random.gauss(1 / N, 0.1))\n",
    "        su = sum(A[i])\n",
    "        for j in range(0, N):\n",
    "            A[i][j] /= su\n",
    "    \n",
    "    # initialize the symbol emission probability matrix\n",
    "    B = []\n",
    "    for i in range(0, N):\n",
    "        B.append([])\n",
    "        for j in range(0, M):\n",
    "            B[i].append(random.gauss(1 / M, 0.1))\n",
    "        su = sum(B[i])\n",
    "        for j in range(0, M):\n",
    "            B[i][j] /= su\n",
    "    print(pi)\n",
    "    print(A)\n",
    "    print(B, end=\"\\n\\n\")\n",
    "\n",
    "    # max_iter is a explicit condition to stop the recursion.\n",
    "    max_iter = 10\n",
    "    for it in range(0, max_iter):\n",
    "        alpha, scaled_constants = alpha_pass(pi, A, B, N, M, T, O)\n",
    "        beta = beta_pass(pi, A, B, N, M, T, O, scaled_constants)\n",
    "        digamma, gamma = digammas(pi, A, B, N, M, T, O, alpha, beta)\n",
    "\n",
    "        # Re-estimate the initial probability matrix\n",
    "        for stat in range(0, N):\n",
    "            pi[stat] = gamma[stat][0]\n",
    "        \n",
    "        # Re-estimate the state transition matrix\n",
    "        for stat in range(0, N):\n",
    "            denom = 0\n",
    "            for time in range(0, T - 1):\n",
    "                denom += gamma[stat][time]\n",
    "            for anot in range(0, N):\n",
    "                numer = 0\n",
    "                for time in range(0, T - 1):\n",
    "                    numer += digamma[stat][anot][time]\n",
    "                A[stat][anot] = numer / denom\n",
    "        \n",
    "        # Re-estimate the symbol emission probability matrix\n",
    "        for stat in range(0, N):\n",
    "            denom = 0\n",
    "            for time in range(0, T):\n",
    "                denom += gamma[stat][time]\n",
    "            for anot in range(0, M):\n",
    "                numer = 0\n",
    "                for time in range(0, T):\n",
    "                    if (O[time] == anot):\n",
    "                        numer += gamma[stat][time]\n",
    "                B[stat][anot] = numer / denom\n",
    "    \n",
    "    # return the model\n",
    "    return pi, A, B"
   ]
  },
  {
   "cell_type": "code",
   "execution_count": 301,
   "metadata": {},
   "outputs": [
    {
     "output_type": "stream",
     "name": "stdout",
     "text": [
      "[0.5618661121147067, 0.4381338878852932]\n[[0.483938892258943, 0.5160611077410571], [0.4743153424324541, 0.525684657567546]]\n[[0.1886234793134056, 0.27501880743116797, 0.5363577132554265], [0.24096138229898703, 0.2613636068770131, 0.49767501082399984]]\n\n[0.32395233566118065, 0.6760476643388196]\n[[0.516889199165247, 0.483110800834753], [0.540269275644103, 0.459730724355897]]\n[[0.4052651645098788, 0.29586151779013575, 0.2988733176999855], [0.5868708580796177, 0.20794546554442278, 0.20518367637595955]]\n"
     ]
    }
   ],
   "source": [
    "pi, A, B = estimate(N, M, T, O)\n",
    "print(pi)\n",
    "print(A)\n",
    "print(B)"
   ]
  }
 ]
}