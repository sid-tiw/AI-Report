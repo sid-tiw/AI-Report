{
 "metadata": {
  "language_info": {
   "codemirror_mode": {
    "name": "ipython",
    "version": 3
   },
   "file_extension": ".py",
   "mimetype": "text/x-python",
   "name": "python",
   "nbconvert_exporter": "python",
   "pygments_lexer": "ipython3",
   "version": "3.9.0"
  },
  "orig_nbformat": 2,
  "kernelspec": {
   "name": "python3",
   "display_name": "Python 3.9.0 64-bit",
   "metadata": {
    "interpreter": {
     "hash": "63fd5069d213b44bf678585dea6b12cceca9941eaf7f819626cde1f2670de90d"
    }
   }
  }
 },
 "nbformat": 4,
 "nbformat_minor": 2,
 "cells": [
  {
   "cell_type": "code",
   "execution_count": 200,
   "metadata": {},
   "outputs": [],
   "source": [
    "import copy\n",
    "import random\n",
    "import math\n",
    "# Initialize all the matrices required for the hidden markov models (for testing only)\n",
    "N = 2\n",
    "M = 3\n",
    "T = 4\n",
    "pi = [0.60, 0.40]\n",
    "O = [0, 1, 0, 2]\n",
    "A = [[0.70, 0.30], [0.40, 0.60]]\n",
    "B = [[0.10, 0.40, 0.50], [0.70, 0.20, 0.10]]"
   ]
  },
  {
   "cell_type": "code",
   "execution_count": 217,
   "metadata": {},
   "outputs": [],
   "source": [
    "# The Forward algorithm. Alpha-pass\n",
    "# pi represents probability of initial states\n",
    "# A is the state transition matrix\n",
    "# B is the observation probability matrix\n",
    "# N is the number of distinct states of the markov process\n",
    "# T is the length of the observation sequence\n",
    "# M is the number of ovservation symbols\n",
    "# O is the observation sequence\n",
    "def alpha_pass(pi, A, B, N, M, T, O):\n",
    "    # The alpha pass calculates the probability P(O_0, O_1, O_2 ... O_t, X_T = q_i | model)\n",
    "\n",
    "    # initialize the zeroth alpha-pass\n",
    "    alpha = []\n",
    "    scaled_constants = []\n",
    "    const = 0\n",
    "    for states in range(0, N):\n",
    "        alpha.append([pi[states] * B[states][O[0]]]);\n",
    "        const += alpha[states][0] # for normalization of alpha constants\n",
    "    \n",
    "    scaled_constants.append(1 / const)\n",
    "    \n",
    "    for states in range(0, N): # Nomalizing\n",
    "        alpha[states][0] *= scaled_constants[0]\n",
    "    \n",
    "    # starting the DP algorithm here\n",
    "    for time in range(1, T):\n",
    "\n",
    "        const = 0\n",
    "\n",
    "        # for each state\n",
    "        for states in range(0, N):\n",
    "            # calculate transition probabilities from each state in time-1 and add it\n",
    "            prob = 0\n",
    "            for prev_states in range(0, N):\n",
    "                prob += (alpha[prev_states][time - 1] * A[prev_states][states]);\n",
    "            \n",
    "            # multiply it with probabilities to get the observation symbols\n",
    "            try:\n",
    "                alpha[states].append(prob * B[states][O[time]])\n",
    "            except IndexError:\n",
    "                print(time)\n",
    "                print(O[time])\n",
    "            const += alpha[states][time]\n",
    "        \n",
    "        # Normalizing\n",
    "        for states in range(0, N):\n",
    "            alpha[states][time] /= const\n",
    "        scaled_constants.append(1 / const)\n",
    "\n",
    "    return alpha, scaled_constants"
   ]
  },
  {
   "cell_type": "code",
   "execution_count": 202,
   "metadata": {},
   "outputs": [
    {
     "output_type": "stream",
     "name": "stdout",
     "text": [
      "[[0.17647058823529413, 0.6234817813765182, 0.16880093131548313, 0.8039793968596827], [0.8235294117647058, 0.3765182186234818, 0.8311990686845169, 0.19602060314031738]]\n"
     ]
    }
   ],
   "source": [
    "alpha, scaled_constants = alpha_pass(pi, A, B, N, M, T, O)\n",
    "print(alpha)"
   ]
  },
  {
   "cell_type": "code",
   "execution_count": 203,
   "metadata": {},
   "outputs": [],
   "source": [
    "# The backward algorithm. Beta-pass\n",
    "# pi represents probability of initial states\n",
    "# A is the state transition matrix\n",
    "# B is the observation probability matrix\n",
    "# N is the number of distinct states of the markov process\n",
    "# T is the length of the observation sequence\n",
    "# M is the number of ovservation symbols\n",
    "# O is the observation sequence\n",
    "def beta_pass(pi, A, B, N, M, T, O, scaled_constants):\n",
    "    # initialize the beta-pass\n",
    "    beta = [[scaled_constants[T - 1]] * T for _ in range(0, N)]\n",
    "    \n",
    "    # The algorithm starts here\n",
    "    for time in range(T - 2, -1, -1):\n",
    "        \n",
    "        for states in range(0, N):\n",
    "            # find the sum of transition probabilities multiplied with the observational probability and the beta-pass of next states\n",
    "            beta[states][time] = 0\n",
    "            for next_states in range(0, N):\n",
    "                beta[states][time] += (A[states][next_states] * B[next_states][O[time + 1]] * beta[next_states][time + 1])\n",
    "            beta[states][time] *= scaled_constants[time]\n",
    "    \n",
    "    return beta"
   ]
  },
  {
   "cell_type": "code",
   "execution_count": 204,
   "metadata": {},
   "outputs": [
    {
     "output_type": "stream",
     "name": "stdout",
     "text": [
      "[[3.1361634958876796, 2.866993436902883, 3.8988119963446044, 3.568164825122539], [2.899393536595498, 4.392290437816732, 2.667608208025256, 3.568164825122539]]\n"
     ]
    }
   ],
   "source": [
    "beta = beta_pass(pi, A, B, N, M, T, O, scaled_constants)\n",
    "print(beta)"
   ]
  },
  {
   "cell_type": "code",
   "execution_count": 205,
   "metadata": {},
   "outputs": [],
   "source": [
    "# the procedure to find the digammas and gammas\n",
    "def digammas(pi, A, B, N, M, T, O, alpha, beta):\n",
    "\n",
    "    digamma = [[[1] * T for _ in range(0, N)] for _ in range(0, N)]\n",
    "    gamma = [[1] * T for _ in range(0, N)]\n",
    "\n",
    "    # P(O | model)\n",
    "    P_O = 0\n",
    "    for i in range(0, N):\n",
    "        P_O += alpha[i][T - 1]\n",
    "    \n",
    "    for time in range(0, T - 1):\n",
    "        for stat1 in range(0, N):\n",
    "            gamma[stat1][time] = 0\n",
    "            for stat2 in range(0, N):\n",
    "                digamma[stat1][stat2][time] = (alpha[stat1][time] * A[stat1][stat2] * B[stat2][O[time + 1]] * beta[stat2][time + 1]) / P_O;\n",
    "                gamma[stat1][time] += digamma[stat1][stat2][time]\n",
    "    \n",
    "    # Special case for y(T - 1)\n",
    "    for stat in range(0, N):\n",
    "        gamma[stat][T - 1] = alpha[stat][T - 1]\n",
    "    \n",
    "    return digamma, gamma"
   ]
  },
  {
   "cell_type": "code",
   "execution_count": 206,
   "metadata": {},
   "outputs": [
    {
     "output_type": "stream",
     "name": "stdout",
     "text": [
      "[[[0.14166320511755423, 0.1701586774113151, 0.21080834094874137, 1], [0.046506604635706585, 0.34927307468638374, 0.01806928636703498, 1]], [[0.3777685469801446, 0.058718949904461255, 0.5931710559109413, 1], [0.4340616432665947, 0.42184929799784, 0.1779513167732824, 1]]] \n\n\n[[0.1881698097532608, 0.5194317520976989, 0.22887762731577635, 0.8039793968596827], [0.8118301902467393, 0.48056824790230124, 0.7711223726842238, 0.19602060314031738]]\n"
     ]
    }
   ],
   "source": [
    "digamma, gamma = digammas(pi, A, B, N, M, T, O, alpha, beta)\n",
    "print(digamma, \"\\n\\n\")\n",
    "print(gamma)"
   ]
  },
  {
   "cell_type": "code",
   "execution_count": 213,
   "metadata": {},
   "outputs": [],
   "source": [
    "# Estimating the model from here on\n",
    "def estimate(N, M, T, O):\n",
    "    # initialize the initial probability here\n",
    "    pi = []\n",
    "    for i in range(0, N):\n",
    "        pi.append(abs(random.gauss(1 / N, 0.05)))\n",
    "    \n",
    "    su = sum(pi)\n",
    "    \n",
    "    for i in range(0, N):\n",
    "        pi[i] /= su\n",
    "    \n",
    "    # initialize the state transition matrix\n",
    "    A = []\n",
    "    for i in range(0, N):\n",
    "        A.append([])\n",
    "        for j in range(0, N):\n",
    "            A[i].append(abs(random.gauss(1 / N, 0.05)))\n",
    "        su = sum(A[i])\n",
    "        for j in range(0, N):\n",
    "            A[i][j] /= su\n",
    "    \n",
    "    # initialize the symbol emission probability matrix\n",
    "    B = []\n",
    "    for i in range(0, N):\n",
    "        B.append([])\n",
    "        for j in range(0, M):\n",
    "            B[i].append(abs(random.gauss(1 / M, 0.05)))\n",
    "        su = sum(B[i])\n",
    "        for j in range(0, M):\n",
    "            B[i][j] /= su\n",
    "    print(pi)\n",
    "    print(A)\n",
    "    print(B, end=\"\\n\\n\")\n",
    "\n",
    "    # max_iter is a explicit condition to stop the recursion.\n",
    "    max_iter = 100\n",
    "    for it in range(0, max_iter):\n",
    "        alpha, scaled_constants = alpha_pass(pi, A, B, N, M, T, O)\n",
    "        beta = beta_pass(pi, A, B, N, M, T, O, scaled_constants)\n",
    "        digamma, gamma = digammas(pi, A, B, N, M, T, O, alpha, beta)\n",
    "\n",
    "        logProb = 0\n",
    "        for time in range(0, T):\n",
    "            logProb += math.log(scaled_constants[time])\n",
    "        logProb *= -1\n",
    "\n",
    "        if (it % 2 == 0):\n",
    "            print(logProb)\n",
    "\n",
    "        # Re-estimate the initial probability matrix\n",
    "        for stat in range(0, N):\n",
    "            pi[stat] = gamma[stat][0]\n",
    "        \n",
    "        # Re-estimate the state transition matrix\n",
    "        for stat in range(0, N):\n",
    "            denom = 0\n",
    "            for time in range(0, T - 1):\n",
    "                denom += gamma[stat][time]\n",
    "            for anot in range(0, N):\n",
    "                numer = 0\n",
    "                for time in range(0, T - 1):\n",
    "                    numer += digamma[stat][anot][time]\n",
    "                A[stat][anot] = numer / denom\n",
    "        \n",
    "        # Re-estimate the symbol emission probability matrix\n",
    "        for stat in range(0, N):\n",
    "            denom = 0\n",
    "            for time in range(0, T):\n",
    "                denom += gamma[stat][time]\n",
    "            for anot in range(0, M):\n",
    "                numer = 0\n",
    "                for time in range(0, T):\n",
    "                    if (O[time] == anot):\n",
    "                        numer += gamma[stat][time]\n",
    "                B[stat][anot] = numer / denom\n",
    "    \n",
    "    # return the model\n",
    "    return pi, A, B"
   ]
  },
  {
   "cell_type": "code",
   "execution_count": 208,
   "metadata": {},
   "outputs": [
    {
     "output_type": "stream",
     "name": "stdout",
     "text": [
      "[0.4979850058304866, 0.5020149941695135]\n[[0.5558864470476419, 0.4441135529523581], [0.5459949490953088, 0.45400505090469123]]\n[[0.4125624183678257, 0.2182537427202242, 0.3691838389119501], [0.28950167786849057, 0.3228081348207471, 0.3876901873107623]]\n\n-4.378769946759489\n-4.125098760908314\n-3.908146982268852\n-2.3822415075236227\n-1.3880470094583401\n-1.3862943611200298\n-1.3862943611198906\n-1.3862943611198906\n-1.3862943611198906\n-1.3862943611198906\n-1.3862943611198906\n-1.3862943611198906\n-1.3862943611198906\n-1.3862943611198906\n-1.3862943611198906\n-1.3862943611198906\n-1.3862943611198906\n-1.3862943611198906\n-1.3862943611198906\n-1.3862943611198906\n-1.3862943611198906\n-1.3862943611198906\n-1.3862943611198906\n-1.3862943611198906\n-1.3862943611198906\n-1.3862943611198906\n-1.3862943611198906\n-1.3862943611198906\n-1.3862943611198906\n-1.3862943611198906\n-1.3862943611198906\n-1.3862943611198906\n-1.3862943611198906\n-1.3862943611198906\n-1.3862943611198906\n-1.3862943611198906\n-1.3862943611198906\n-1.3862943611198906\n-1.3862943611198906\n-1.3862943611198906\n-1.3862943611198906\n-1.3862943611198906\n-1.3862943611198906\n-1.3862943611198906\n-1.3862943611198906\n-1.3862943611198906\n-1.3862943611198906\n-1.3862943611198906\n-1.3862943611198906\n-1.3862943611198906\n[1.0, 0.0]\n[[0.0, 1.0], [1.0, 0.0]]\n[[1.0, 0.0, 0.0], [0.0, 0.5, 0.5]]\n"
     ]
    }
   ],
   "source": [
    "pi, A, B = estimate(N, M, T, O)\n",
    "print(pi)\n",
    "print(A)\n",
    "print(B)"
   ]
  },
  {
   "cell_type": "code",
   "execution_count": 209,
   "metadata": {
    "tags": []
   },
   "outputs": [],
   "source": [
    "import re\n",
    "# War and peace starts here\n",
    "file = open(\"war-and-peace.txt\", \"r\", encoding=\"ascii\", errors=\"ignore\")\n",
    "\n",
    "# Cleaning the data starts here\n",
    "data = file.read().replace('\\n', ' ') # remove new lines\n",
    "data = data.lower() # make everything lowercase\n",
    "data = ''.join(ch for ch in data if (ch.isalpha() or ch == ' ')) # remove any characters that are not a-z\n",
    "data = re.sub(' +', ' ', data) # remove extra spaces\n",
    "data = re.sub(' +', ' 26 ', data) # change spaces to the number 26\n",
    "for i in range(0, 26): # change the characters to number corresponding to their labels in the observation sequence. 0 means a, 1 means b and so on upto z\n",
    "    data = re.sub(chr(ord('a') + i) + '+', ' ' + str(i) + ' ', data)\n",
    "data = re.sub(' +', ' ', data) # again remove the extra spaces to make the numbers ready to convert\n",
    "\n",
    "# load the integers in an observation sequence\n",
    "observation_sequence = []\n",
    "T = 0\n",
    "for each_word in data.split(' '):\n",
    "    if (each_word != '' and T < 50000):\n",
    "        observation_sequence.append(int(each_word))\n",
    "        T += 1\n",
    "    elif(T >= 50000):\n",
    "        break\n",
    "\n",
    "file.close()"
   ]
  },
  {
   "cell_type": "code",
   "execution_count": 220,
   "metadata": {},
   "outputs": [
    {
     "output_type": "stream",
     "name": "stdout",
     "text": [
      "[0.4990428709408311, 0.500957129059169]\n",
      "[[0.48329367623395164, 0.5167063237660483], [0.48239457422578236, 0.5176054257742175]]\n",
      "[[0.10128338536498013, 0.10985979236415785, 0.0040985989004216836, 0.0414264980047653, 0.05131351573791775, 0.003750939794596347, 0.03209083290490865, 0.009616919492324372, 0.005857506723363556, 0.05850584340821094, 0.04809163180186161, 0.03447170487730992, 0.04576369580021104, 0.008095568177909082, 0.0794479559850584, 0.026148477157657064, 0.009371614876541125, 0.046177859090570886, 0.06070921903977031, 0.033035155954073914, 0.06274547282182857, 0.028970351327455027, 0.02237438079477027, 0.0058670693689962675, 0.013651488869754567, 0.02849474530007244, 0.028779776060513036], [0.016579897287304687, 0.023613102097551734, 0.03487551386335784, 0.09029263164679124, 0.004107163682466951, 0.02740955688230119, 0.03995465748545425, 0.027512186623733698, 0.008281075704353507, 0.020747661931900894, 0.007833914078972545, 0.03431739883275322, 0.03932217751253951, 0.013403736053432065, 0.0412946480444647, 0.01720262260492801, 0.017258798880847824, 0.1261728109175271, 0.004572765306067907, 0.12332747654500743, 0.012101006704923886, 0.012568028778104685, 0.030312227085063828, 0.07854098771472422, 0.05220605628722667, 0.06469453127710444, 0.03149736617109588]]\n",
      "\n",
      "-172690.54331235343\n",
      "-141547.29275977277\n",
      "-141405.62736164377\n",
      "-141152.58364696123\n",
      "-140659.96277556376\n",
      "-139793.9030618591\n",
      "-138638.14034194493\n",
      "-137621.84235669646\n",
      "-137129.67475887088\n",
      "-136941.03433970807\n",
      "-136850.28300940307\n",
      "-136795.29089171148\n",
      "-136756.42295994924\n",
      "-136726.05473055816\n",
      "-136700.7868292555\n",
      "-136678.99770603044\n",
      "-136659.89258868757\n",
      "-136643.06538863172\n",
      "-136628.27921011043\n",
      "-136615.35740458188\n",
      "-136604.13477363915\n",
      "-136594.44126769574\n",
      "-136586.10214923864\n",
      "-136578.94494734204\n",
      "-136572.80720784282\n",
      "-136567.54191331047\n",
      "-136563.01985121903\n",
      "-136559.12961890764\n",
      "-136555.77629286642\n",
      "-136552.87954770643\n",
      "-136550.37166904908\n",
      "-136548.1956693916\n",
      "-136546.30359206363\n",
      "-136544.6550310928\n",
      "-136543.21586829412\n",
      "-136541.9572133465\n",
      "-136540.85452487355\n",
      "-136539.88688777978\n",
      "-136539.0364207971\n",
      "-136538.2877914586\n",
      "-136537.62781762233\n",
      "-136537.04513922762\n",
      "-136536.52994607078\n",
      "-136536.0737508177\n",
      "-136535.66919901315\n",
      "-136535.30990859595\n",
      "-136534.99033425451\n",
      "-136534.7056520601\n",
      "-136534.45166090282\n",
      "-136534.22469828103\n",
      "[0.0, 0.9999999999995692]\n",
      "[[0.2646595781350471, 0.7353404218648775], [0.7275214693392832, 0.27247853066069017]]\n",
      "[[0.14479218454877163, 2.4220112593076334e-26, 0.00022742459485360382, 1.3685430054762879e-09, 0.20710848739043147, 7.073758018764186e-33, 0.0040031922856682365, 7.747835440629472e-09, 0.12317928094696447, 4.0358649314057315e-39, 0.00010032606090507757, 1.5968653685311111e-06, 1.1021535668568388e-34, 3.3731701137568157e-20, 0.119921846485095, 0.0006516776831396444, 1.628125031771257e-20, 4.3667441917529635e-29, 7.537590380609181e-12, 9.702357869297514e-05, 0.03826186320042804, 4.3637971683947724e-39, 4.010076744859352e-29, 3.1124182035144118e-21, 0.0028732173055901295, 1.0375607330735898e-60, 0.35878186993009176], [6.24389350507224e-05, 0.0230764898611874, 0.0406760858180166, 0.07201456183352686, 1.6100997817098227e-23, 0.02896497348093827, 0.02842609131562701, 0.10074080669418652, 1.4076429811506316e-18, 0.0017108432138466109, 0.012274515165154773, 0.05971878441583088, 0.039110671609564295, 0.11880413573363124, 7.531324765000126e-21, 0.03416893105581625, 0.0013925468019682483, 0.09222638534178022, 0.09775678549071111, 0.13677146658038952, 0.005274690956951416, 0.023036702809702474, 0.03608685569671923, 0.0025861583465124076, 0.0298225443313878, 0.001034463338604932, 0.014262071172865473]]\n"
     ]
    }
   ],
   "source": [
    "T = len(observation_sequence)\n",
    "N = 2\n",
    "M = 27\n",
    "pi, A, B = estimate(N, M, T, observation_sequence)\n",
    "print(pi)\n",
    "print(A)\n",
    "print(B)"
   ]
  }
 ]
}