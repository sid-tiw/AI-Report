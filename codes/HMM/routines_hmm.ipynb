{
 "metadata": {
  "language_info": {
   "codemirror_mode": {
    "name": "ipython",
    "version": 3
   },
   "file_extension": ".py",
   "mimetype": "text/x-python",
   "name": "python",
   "nbconvert_exporter": "python",
   "pygments_lexer": "ipython3",
   "version": "3.9.0"
  },
  "orig_nbformat": 2,
  "kernelspec": {
   "name": "python3",
   "display_name": "Python 3.9.0 64-bit",
   "metadata": {
    "interpreter": {
     "hash": "63fd5069d213b44bf678585dea6b12cceca9941eaf7f819626cde1f2670de90d"
    }
   }
  }
 },
 "nbformat": 4,
 "nbformat_minor": 2,
 "cells": [
  {
   "cell_type": "code",
   "execution_count": 169,
   "metadata": {},
   "outputs": [],
   "source": [
    "import copy\n",
    "# Initialize all the matrices required for the hidden markov models (for testing only)\n",
    "N = 2\n",
    "M = 3\n",
    "T = 4\n",
    "pi = [0.60, 0.40]\n",
    "O = [0, 1, 0, 2]\n",
    "A = [[0.70, 0.30], [0.40, 0.60]]\n",
    "B = [[0.10, 0.40, 0.50], [0.70, 0.20, 0.10]]"
   ]
  },
  {
   "cell_type": "code",
   "execution_count": 170,
   "metadata": {},
   "outputs": [],
   "source": [
    "# The Forward algorithm. Alpha-pass\n",
    "# pi represents probability of initial states\n",
    "# A is the state transition matrix\n",
    "# B is the observation probability matrix\n",
    "# N is the number of distinct states of the markov process\n",
    "# T is the length of the observation sequence\n",
    "# M is the number of ovservation symbols\n",
    "# O is the observation sequence\n",
    "def alpha_pass(pi, A, B, N, M, T, O):\n",
    "    # The alpha pass calculates the probability P(O_0, O_1, O_2 ... O_t, X_T = q_i | model)\n",
    "\n",
    "    # initialize the zeroth alpha-pass\n",
    "    alpha = []\n",
    "    for states in range(0, N):\n",
    "        alpha.append([pi[states] * B[states][O[0]]]);\n",
    "    \n",
    "    # starting the DP algorithm here\n",
    "    for time in range(1, T):\n",
    "\n",
    "        # for each state\n",
    "        for states in range(0, N):\n",
    "            # calculate transition probabilities from each state in time-1 and add it\n",
    "            prob = 0\n",
    "            for prev_states in range(0, N):\n",
    "                prob += (alpha[prev_states][time - 1] * A[prev_states][states]);\n",
    "            \n",
    "            # multiply it with probabilities to get the observation symbols\n",
    "            alpha[states].append(prob * B[states][O[time]])\n",
    "\n",
    "    return alpha"
   ]
  },
  {
   "cell_type": "code",
   "execution_count": 171,
   "metadata": {},
   "outputs": [
    {
     "output_type": "stream",
     "name": "stdout",
     "text": [
      "[[0.06, 0.06159999999999999, 0.0058, 0.007741999999999998], [0.27999999999999997, 0.0372, 0.02855999999999999, 0.0018875999999999995]]\n"
     ]
    }
   ],
   "source": [
    "alpha = alpha_pass(pi, A, B, N, M, T, O)\n",
    "print(alpha)"
   ]
  },
  {
   "cell_type": "code",
   "execution_count": 172,
   "metadata": {},
   "outputs": [],
   "source": [
    "# The backward algorithm. Beta-pass\n",
    "# pi represents probability of initial states\n",
    "# A is the state transition matrix\n",
    "# B is the observation probability matrix\n",
    "# N is the number of distinct states of the markov process\n",
    "# T is the length of the observation sequence\n",
    "# M is the number of ovservation symbols\n",
    "# O is the observation sequence\n",
    "def beta_pass(pi, A, B, N, M, T, O):\n",
    "    # initialize the beta-pass\n",
    "    beta = [[1] * T for _ in range(0, N)]\n",
    "    \n",
    "    # The algorithm starts here\n",
    "    for time in range(T - 2, -1, -1):\n",
    "        \n",
    "        for states in range(0, N):\n",
    "            # find the sum of transition probabilities multiplied with the observational probability and the beta-pass of next states\n",
    "            beta[states][time] = 0\n",
    "            for next_states in range(0, N):\n",
    "                beta[states][time] += (A[states][next_states] * B[next_states][O[time + 1]] * beta[next_states][time + 1])\n",
    "    \n",
    "    return beta"
   ]
  },
  {
   "cell_type": "code",
   "execution_count": 173,
   "metadata": {},
   "outputs": [
    {
     "output_type": "stream",
     "name": "stdout",
     "text": [
      "[[0.030199999999999998, 0.0812, 0.38, 1], [0.02792, 0.12440000000000001, 0.26, 1]]\n"
     ]
    }
   ],
   "source": [
    "beta = beta_pass(pi, A, B, N, M, T, O)\n",
    "print(beta)"
   ]
  },
  {
   "cell_type": "code",
   "execution_count": 174,
   "metadata": {},
   "outputs": [],
   "source": [
    "# find the most likely state sequence given the observation sequence in the HMM sense\n",
    "def hmm_sense(pi, A, B, N, M, T, O):\n",
    "    # calculate alpha and beta pass\n",
    "    alpha = alpha_pass(pi, A, B, N, M, T, O)\n",
    "    beta = beta_pass(pi, A, B, N, M, T, O)\n",
    "\n",
    "    # calculate P(O|model), although we don't need it\n",
    "    P_O = 0\n",
    "    for i in range(0, N):\n",
    "        P_O += alpha[i][T - 1]\n",
    "    \n",
    "    # Calculate most likely sequence\n",
    "    most_likely = \"\"\n",
    "    for time in range(0, T):\n",
    "        mx = 0\n",
    "        for stat in range(1, N):\n",
    "            prob1 = (alpha[stat][time] * beta[stat][time])\n",
    "            prob2 = (alpha[mx][time] * beta[mx][time])\n",
    "            if prob1 > prob2:\n",
    "                mx = stat\n",
    "        most_likely = most_likely + str(mx)\n",
    "\n",
    "    return most_likely"
   ]
  },
  {
   "cell_type": "code",
   "execution_count": 175,
   "metadata": {},
   "outputs": [],
   "source": [
    "# find the most likely state sequence given the observation sequence in the Dynamic Programming sense\n",
    "def dp_sense(pi, A, B, N, M, T, O):\n",
    "    predecessor_list = [[] for _ in range(0, N)]\n",
    "    alpha = []\n",
    "    for states in range(0, N):\n",
    "        alpha.append([pi[states] * B[states][O[0]]]);\n",
    "        predecessor_list[states].append(states)\n",
    "    \n",
    "    # starting the DP algorithm here\n",
    "    for time in range(1, T):\n",
    "\n",
    "        # for each state\n",
    "        for states in range(0, N):\n",
    "            # calculate transition probabilities from each state in time-1 and add it\n",
    "            prob_mx = 0\n",
    "            target = 0\n",
    "            for prev_states in range(0, N):\n",
    "                prob = (alpha[prev_states][time - 1] * A[prev_states][states])\n",
    "                if (prob > prob_mx):\n",
    "                    target = prev_states\n",
    "                    prob_mx = prob\n",
    "            \n",
    "            predecessor_list[states] = copy.copy(predecessor_list[target])\n",
    "            predecessor_list[states].append(states)\n",
    "            \n",
    "            # multiply it with probabilities to get the observation symbols\n",
    "            alpha[states].append(prob_mx * B[states][O[time]])\n",
    "    \n",
    "    mx_prob = 0\n",
    "    target = 0\n",
    "    for states in range(0, N):\n",
    "        if (alpha[states][T - 1] > mx_prob):\n",
    "            mx_prob = alpha[states][T - 1]\n",
    "            target = states\n",
    "    \n",
    "    ans = \"\"\n",
    "    for a in predecessor_list[target]:\n",
    "        ans += str(a)\n",
    "    return ans"
   ]
  },
  {
   "cell_type": "code",
   "execution_count": 176,
   "metadata": {},
   "outputs": [
    {
     "output_type": "stream",
     "name": "stdout",
     "text": [
      "The most likely state sequence according to HMM sense is: 1010\nThe most likely state sequence according to DP sense is: 1110\n"
     ]
    }
   ],
   "source": [
    "most_likely_hmm = hmm_sense(pi, A, B, N, M, T, O)\n",
    "most_likely_dp = dp_sense(pi, A, B, N, M, T, O)\n",
    "print(\"The most likely state sequence according to HMM sense is: \" + most_likely_hmm, end = \"\\n\")\n",
    "print(\"The most likely state sequence according to DP sense is: \" + most_likely_dp, end = \"\\n\")"
   ]
  },
  {
   "cell_type": "code",
   "execution_count": 177,
   "metadata": {},
   "outputs": [],
   "source": [
    "# the procedure to find the gammas\n",
    "def gammas(pi, A, B, N, M, T, O):\n",
    "    gamma = [[1] * T for _ in range(0, N)]\n",
    "    \n",
    "    # P(O | model)\n",
    "    P_O = 0\n",
    "    for i in range(0, N):\n",
    "        P_O += alpha[i][T - 1]\n",
    "    \n",
    "    for time in range(0, T):\n",
    "        for stat in range(0, N):\n",
    "            gamma[stat][time] = (alpha[stat][time] * beta[stat][time]) / P_O;\n",
    "    return gamma"
   ]
  },
  {
   "cell_type": "code",
   "execution_count": 178,
   "metadata": {},
   "outputs": [],
   "source": [
    "# the procedure to find the digammas\n",
    "def digammas(pi, A, B, N, M, T, O):\n",
    "    # Alpha pass and beta pass\n",
    "    alpha = alpha_pass(pi, A, B, N, M, T, O)\n",
    "    beta = beta_pass(pi, A, B, N, M, T, O)\n",
    "\n",
    "    digamma = [[[1] * T for _ in range(0, N)] for _ in range(0, N)]\n",
    "\n",
    "    # P(O | model)\n",
    "    P_O = 0\n",
    "    for i in range(0, N):\n",
    "        P_O += alpha[i][T - 1]\n",
    "    \n",
    "    for time in range(0, T - 1):\n",
    "        for stat1 in range(0, N):\n",
    "            for stat2 in range(0, N):\n",
    "                digamma[stat1][stat2][time] = (alpha[stat1][time] * A[stat1][stat2] * B[stat2][O[time + 1]] * beta[stat2][time + 1]) / P_O;\n",
    "    \n",
    "    return digamma"
   ]
  },
  {
   "cell_type": "code",
   "execution_count": 179,
   "metadata": {},
   "outputs": [
    {
     "output_type": "stream",
     "name": "stdout",
     "text": [
      "[[0.1881698097532608, 0.5194317520976989, 0.2288776273157764, 0.8039793968596827], [0.8118301902467394, 0.4805682479023014, 0.7711223726842237, 0.19602060314031736]]\n\n[[[0.14166320511755423, 0.17015867741131513, 0.21080834094874143, 1], [0.04650660463570659, 0.3492730746863837, 0.018069286367034983, 1]], [[0.37776854698014467, 0.05871894990446126, 0.5931710559109413, 1], [0.4340616432665948, 0.42184929799784004, 0.17795131677328238, 1]]]\n"
     ]
    }
   ],
   "source": [
    "gm = gammas(pi, A, B, N, M, T, O)\n",
    "dgm = digammas(pi, A, B, N, M, T, O)\n",
    "print(gm, end=\"\\n\\n\")\n",
    "print(dgm)"
   ]
  }
 ]
}