{
 "metadata": {
  "language_info": {
   "codemirror_mode": {
    "name": "ipython",
    "version": 3
   },
   "file_extension": ".py",
   "mimetype": "text/x-python",
   "name": "python",
   "nbconvert_exporter": "python",
   "pygments_lexer": "ipython3",
   "version": "3.9.0"
  },
  "orig_nbformat": 2,
  "kernelspec": {
   "name": "python3",
   "display_name": "Python 3.9.0 64-bit",
   "metadata": {
    "interpreter": {
     "hash": "63fd5069d213b44bf678585dea6b12cceca9941eaf7f819626cde1f2670de90d"
    }
   }
  }
 },
 "nbformat": 4,
 "nbformat_minor": 2,
 "cells": [
  {
   "cell_type": "code",
   "execution_count": 1,
   "metadata": {
    "tags": []
   },
   "outputs": [
    {
     "output_type": "stream",
     "name": "stdout",
     "text": [
      "[0.05, 0.15000000000000002, 0.25, 0.35, 0.44999999999999996, 0.5499999999999999, 0.6499999999999999, 0.7499999999999999, 0.8499999999999999, 0.9499999999999998]\n",
      "[0.010000098839014768, 0.09242370543944152, 0.17678872221975686, 0.28755968647458957, 0.39120521238224143, 0.47740988634465353, 0.5697905035971813, 0.6882557285283949, 0.784088566282251, 0.8970605264975281]\n",
      "\n",
      "The parameters after the algorithm is - \n",
      "\n",
      "[0.010000098839014768, 0.09242370543944152, 0.17678872221975686, 0.28755968647458957, 0.39120521238224143, 0.47740988634465353, 0.5697905035971813, 0.6882557285283949, 0.784088566282251, 0.8970605264975281]\n"
     ]
    }
   ],
   "source": [
    "import csv # import csv to read the csv file\n",
    "import collections\n",
    "\n",
    "# 500 observation sequences.\n",
    "observations = 500\n",
    "# samples per observation sequence\n",
    "num_of_samples = 100\n",
    "# There are 10 coins in total for this experiment.\n",
    "num_of_coins = 10;\n",
    "# Increase number of iterations to get a better guess\n",
    "max_iteration = 1000\n",
    "\n",
    "# Read the coin tossing experiment\n",
    "data = list(csv.reader(open('2020_ten_bent_coins.csv')))\n",
    "\n",
    "num_of_heads = []\n",
    "# We need to count just the number of heads in each observation.\n",
    "for O in range(0, observations):\n",
    "    num_of_heads.append(collections.Counter(data[O])['1']);\n",
    "\n",
    "# Initial parameters\n",
    "parameters = [0.05];\n",
    "\n",
    "# Initialize the parameters with numbers between 0 and 1\n",
    "for coin in range(1, 10):\n",
    "   parameters.append(parameters[coin - 1] + 0.1);\n",
    "\n",
    "parameters.sort();\n",
    "print(parameters);\n",
    "\n",
    "for it in range(0, max_iteration):\n",
    "    expected_total_heads = [0] * num_of_coins;\n",
    "    expected_total_tails = [0] * num_of_coins;\n",
    "\n",
    "    # for each observation sequence calculate the expected number of heads and tails for each coin\n",
    "    for O in range(0, observations):\n",
    "        # calculate the denominator of P(C = x | O) expression as given in the report\n",
    "        denominator_sum = 0;\n",
    "        for coin in range(0, num_of_coins):\n",
    "            denominator_sum += (parameters[coin] ** num_of_heads[O] * (1 - parameters[coin]) ** (num_of_samples - num_of_heads[O]));\n",
    "        \n",
    "        # calculate the expected number of heads for each coin now\n",
    "        for coin in range(0, num_of_coins):\n",
    "            posterior = (parameters[coin] ** num_of_heads[O] * (1 - parameters[coin]) ** (num_of_samples - num_of_heads[O])) / denominator_sum;\n",
    "            expected_total_heads[coin] += (num_of_heads[O] * posterior);\n",
    "            expected_total_tails[coin] += ((num_of_samples - num_of_heads[O]) * posterior);\n",
    "    \n",
    "    # update the parameter values accordingly\n",
    "    for coin in range(0, num_of_coins):\n",
    "        parameters[coin] = expected_total_heads[coin] / (expected_total_heads[coin] + expected_total_tails[coin]);\n",
    "\n",
    "print(parameters);\n",
    "parameters.sort();\n",
    "print(\"\\nThe parameters after the algorithm is - \\n\");\n",
    "print(parameters);"
   ]
  }
 ]
}